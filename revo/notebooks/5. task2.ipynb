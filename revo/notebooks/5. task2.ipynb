{
 "cells": [
  {
   "cell_type": "code",
   "execution_count": 362,
   "metadata": {},
   "outputs": [],
   "source": [
    "import pandas as pd\n",
    "\n",
    "import statsmodels.api as sm\n",
    "import matplotlib.pyplot as plt\n",
    "import numpy as np"
   ]
  },
  {
   "cell_type": "code",
   "execution_count": 363,
   "metadata": {},
   "outputs": [],
   "source": [
    "# Import cleaned data\n",
    "df=pd.read_csv('output/df_task1.csv')"
   ]
  },
  {
   "cell_type": "code",
   "execution_count": 364,
   "metadata": {},
   "outputs": [],
   "source": [
    "# Remove rows without sector\n",
    "df.dropna(subset='description_sector',inplace=True)"
   ]
  },
  {
   "cell_type": "code",
   "execution_count": 365,
   "metadata": {},
   "outputs": [],
   "source": [
    "def get_year_quarter_combos(start_year,start_quarter,\n",
    "                            end_year,end_quarter):\n",
    "    ''' Will return a dataframe that can be used to inner join df\n",
    "    so that you can filter the df based on year and quarter.\n",
    "    '''\n",
    "    all_combos=[]\n",
    "    for year in range(start_year,end_year+1):\n",
    "        if year==start_year:\n",
    "            for quarter in range(start_quarter,5):\n",
    "                combo=(year,quarter)\n",
    "                all_combos.append(combo)\n",
    "        elif year!=start_year and year<end_year:\n",
    "            for quarter in range(1,5):\n",
    "                combo=(year,quarter)\n",
    "                all_combos.append(combo)\n",
    "        elif year==end_year:\n",
    "            for quarter in range(1,end_quarter+1):\n",
    "                combo=(year,quarter)\n",
    "                all_combos.append(combo)\n",
    "                \n",
    "    # Convert the list of tuples to a DataFrame\n",
    "    filter_df = pd.DataFrame(all_combos, columns=['Year', 'Quarter'])\n",
    "    \n",
    "    return filter_df\n",
    "\n",
    "filter_df=get_year_quarter_combos(2019,4,2022,2)\n",
    "\n",
    "# Filter df based on the provided start and end year and quarter\n",
    "df=df.merge(filter_df,on=['Year','Quarter'])\n"
   ]
  },
  {
   "cell_type": "code",
   "execution_count": 366,
   "metadata": {},
   "outputs": [],
   "source": [
    "df.drop(['code_sector','Country'],axis=1,inplace=True)"
   ]
  },
  {
   "cell_type": "code",
   "execution_count": 367,
   "metadata": {},
   "outputs": [],
   "source": [
    "X_cols=df[['Year','sin_quarter','cos_quarter']].columns\t\t\n",
    "Y_cols=df.drop(['description_sector','Year','sin_quarter','cos_quarter','Quarter'],axis=1).columns"
   ]
  }
 ],
 "metadata": {
  "kernelspec": {
   "display_name": "Python 3 (ipykernel)",
   "language": "python",
   "name": "python3"
  },
  "language_info": {
   "codemirror_mode": {
    "name": "ipython",
    "version": 3
   },
   "file_extension": ".py",
   "mimetype": "text/x-python",
   "name": "python",
   "nbconvert_exporter": "python",
   "pygments_lexer": "ipython3",
   "version": "3.9.17"
  }
 },
 "nbformat": 4,
 "nbformat_minor": 2
}
