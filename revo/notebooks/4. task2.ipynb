{
 "cells": [
  {
   "cell_type": "code",
   "execution_count": 61,
   "metadata": {},
   "outputs": [],
   "source": [
    "import pandas as pd\n",
    "import numpy as np\n",
    "\n",
    "from sklearn.impute import KNNImputer\n",
    "from sklearn.model_selection import train_test_split\n",
    "\n",
    "from sklearn.ensemble import RandomForestClassifier\n",
    "from sklearn.metrics import accuracy_score, classification_report\n",
    "import xgboost as xgb\n",
    "import lightgbm as lgb"
   ]
  },
  {
   "cell_type": "code",
   "execution_count": 62,
   "metadata": {},
   "outputs": [],
   "source": [
    "# Import cleaned data\n",
    "df=pd.read_csv('output/0. cleaned_data/df_task2.csv')"
   ]
  },
  {
   "cell_type": "code",
   "execution_count": 63,
   "metadata": {},
   "outputs": [],
   "source": [
    "df=df.drop(['description_sector','Quarter'],axis=1)\n",
    "df=pd.get_dummies(df)\n",
    "df = df.astype(float)"
   ]
  },
  {
   "cell_type": "code",
   "execution_count": 64,
   "metadata": {},
   "outputs": [],
   "source": [
    "# Change the code_sector to work with certain ml functions below\n",
    "df['code_sector'] = (df['code_sector'] - 1).astype(int)"
   ]
  },
  {
   "cell_type": "code",
   "execution_count": 65,
   "metadata": {},
   "outputs": [],
   "source": [
    "X_cols=df[['code_sector']].columns\n",
    "Y_cols=df.drop(['code_sector'],axis=1).columns"
   ]
  },
  {
   "cell_type": "code",
   "execution_count": 66,
   "metadata": {},
   "outputs": [],
   "source": [
    "# Split dataset into train-test\n",
    "X = df.drop(columns=['code_sector'])\n",
    "y = df['code_sector']\n",
    "\n",
    "# Split data into train and test sets\n",
    "X_train, X_test, y_train, y_test = train_test_split(X, y, test_size=0.2, random_state=42)"
   ]
  },
  {
   "cell_type": "code",
   "execution_count": 67,
   "metadata": {},
   "outputs": [],
   "source": [
    "# Apply outlier and missing no inputation to train and test separately to avoid leakage\n",
    "\n",
    "def remove_outliers_iqr(df,threshold):\n",
    "    \"\"\"\n",
    "    Remove outliers from each column of a DataFrame using the Interquartile Range (IQR) method.\n",
    "    Turns the outliers with None\n",
    "    \"\"\"\n",
    "    df_no_outliers = df.copy()  # Create a copy of the DataFrame to avoid modifying the original\n",
    "    \n",
    "    # Select columns with float dtype\n",
    "    float_cols = df.select_dtypes(include=['float']).columns\n",
    "\n",
    "    # Iterate over each float column\n",
    "    for column in df[float_cols].columns:\n",
    "        # Calculate the first quartile (Q1) and third quartile (Q3) for the column\n",
    "        Q1 = df[column].quantile(0.25)\n",
    "        Q3 = df[column].quantile(0.75)\n",
    "        \n",
    "        # Calculate the IQR for the column\n",
    "        IQR = Q3 - Q1\n",
    "        \n",
    "        # Define the lower and upper bounds for outliers for the column\n",
    "        lower_bound = Q1 - threshold * IQR\n",
    "        upper_bound = Q3 + threshold * IQR\n",
    "        \n",
    "        # Replace outliers with None for the column\n",
    "        df_no_outliers[column] = df[column].mask((df[column] < lower_bound) | (df[column] > upper_bound), other=None)\n",
    "    \n",
    "    return df_no_outliers\n",
    "\n",
    "X_train = remove_outliers_iqr(X_train,4)\n",
    "X_test = remove_outliers_iqr(X_test,4)"
   ]
  },
  {
   "cell_type": "code",
   "execution_count": 68,
   "metadata": {},
   "outputs": [],
   "source": [
    "# Inpute missing data with interpolation as it is time series data\n",
    "X_train = X_train.interpolate(method='linear')\n",
    "X_test = X_test.interpolate(method='linear')"
   ]
  },
  {
   "cell_type": "code",
   "execution_count": 69,
   "metadata": {},
   "outputs": [],
   "source": [
    "# Inpute the remaining missing values (due to missing from the start or from the end of df)\n",
    "imputer = KNNImputer(n_neighbors=5)\n",
    "X_train = imputer.fit_transform(X_train)\n",
    "X_test = imputer.fit_transform(X_test)"
   ]
  },
  {
   "cell_type": "code",
   "execution_count": 70,
   "metadata": {},
   "outputs": [],
   "source": [
    "# For more comprehensible output\n",
    "labels_list=['Transportation and warehousing','Wholesale trade','Manufacturing','Retail trade','Energy','Construction']"
   ]
  },
  {
   "cell_type": "code",
   "execution_count": 71,
   "metadata": {},
   "outputs": [
    {
     "name": "stdout",
     "output_type": "stream",
     "text": [
      "Accuracy: 0.74\n",
      "                                precision    recall  f1-score   support\n",
      "\n",
      "Transportation and warehousing       0.81      0.41      0.54        32\n",
      "               Wholesale trade       0.73      0.56      0.63       187\n",
      "                 Manufacturing       0.71      0.96      0.82       570\n",
      "                  Retail trade       0.85      0.40      0.54       118\n",
      "                        Energy       1.00      0.37      0.54        38\n",
      "                  Construction       0.80      0.62      0.70       211\n",
      "\n",
      "                      accuracy                           0.74      1156\n",
      "                     macro avg       0.82      0.55      0.63      1156\n",
      "                  weighted avg       0.76      0.74      0.72      1156\n",
      "\n"
     ]
    }
   ],
   "source": [
    "# Initialize and train the Random Forest Classifier\n",
    "clf = RandomForestClassifier(n_estimators=100, random_state=42)\n",
    "clf.fit(X_train, y_train)\n",
    "\n",
    "# Predict on the test set\n",
    "y_pred = clf.predict(X_test)\n",
    "\n",
    "# Calculate accuracy\n",
    "accuracy = accuracy_score(y_test, y_pred)\n",
    "print(f'Accuracy: {accuracy:.2f}')\n",
    "\n",
    "# Classification report\n",
    "print(classification_report(y_test, y_pred,target_names=labels_list))\n"
   ]
  },
  {
   "cell_type": "code",
   "execution_count": 73,
   "metadata": {},
   "outputs": [
    {
     "name": "stdout",
     "output_type": "stream",
     "text": [
      "Accuracy: 0.79\n",
      "                                precision    recall  f1-score   support\n",
      "\n",
      "Transportation and warehousing       0.68      0.47      0.56        32\n",
      "               Wholesale trade       0.78      0.61      0.69       187\n",
      "                 Manufacturing       0.80      0.94      0.87       570\n",
      "                  Retail trade       0.78      0.59      0.67       118\n",
      "                        Energy       0.92      0.61      0.73        38\n",
      "                  Construction       0.75      0.73      0.74       211\n",
      "\n",
      "                      accuracy                           0.79      1156\n",
      "                     macro avg       0.79      0.66      0.71      1156\n",
      "                  weighted avg       0.79      0.79      0.78      1156\n",
      "\n"
     ]
    }
   ],
   "source": [
    "# Initialize and train the XGBoost Classifier\n",
    "clf = xgb.XGBClassifier(objective='multi:softmax', num_class=6, random_state=42)\n",
    "clf.fit(X_train, y_train)\n",
    "\n",
    "# Predict on the test set\n",
    "y_pred = clf.predict(X_test)\n",
    "\n",
    "# Calculate accuracy\n",
    "accuracy = accuracy_score(y_test, y_pred)\n",
    "print(f'Accuracy: {accuracy:.2f}')\n",
    "\n",
    "# Classification report\n",
    "print(classification_report(y_test, y_pred,target_names=labels_list))\n"
   ]
  },
  {
   "cell_type": "code",
   "execution_count": 75,
   "metadata": {},
   "outputs": [
    {
     "name": "stdout",
     "output_type": "stream",
     "text": [
      "[LightGBM] [Info] Total Bins 14500\n",
      "[LightGBM] [Info] Number of data points in the train set: 4623, number of used features: 83\n",
      "[LightGBM] [Info] Start training from score -3.257016\n",
      "[LightGBM] [Info] Start training from score -1.913769\n",
      "[LightGBM] [Info] Start training from score -0.671535\n",
      "[LightGBM] [Info] Start training from score -2.150941\n",
      "[LightGBM] [Info] Start training from score -3.526144\n",
      "[LightGBM] [Info] Start training from score -1.849873\n",
      "Accuracy: 0.79\n",
      "                                precision    recall  f1-score   support\n",
      "\n",
      "Transportation and warehousing       0.72      0.41      0.52        32\n",
      "               Wholesale trade       0.76      0.65      0.70       187\n",
      "                 Manufacturing       0.79      0.93      0.86       570\n",
      "                  Retail trade       0.84      0.53      0.65       118\n",
      "                        Energy       0.96      0.71      0.82        38\n",
      "                  Construction       0.75      0.73      0.74       211\n",
      "\n",
      "                      accuracy                           0.79      1156\n",
      "                     macro avg       0.80      0.66      0.71      1156\n",
      "                  weighted avg       0.79      0.79      0.78      1156\n",
      "\n"
     ]
    }
   ],
   "source": [
    "# Initialize and train the LightGBM Classifier\n",
    "clf = lgb.LGBMClassifier(num_class=6, random_state=42,force_col_wise=True)\n",
    "clf.fit(X_train, y_train)\n",
    "\n",
    "# Predict on the test set\n",
    "y_pred = clf.predict(X_test)\n",
    "\n",
    "# Calculate accuracy\n",
    "accuracy = accuracy_score(y_test, y_pred)\n",
    "print(f'Accuracy: {accuracy:.2f}')\n",
    "\n",
    "# Classification report\n",
    "print(classification_report(y_test, y_pred,target_names=labels_list))\n"
   ]
  },
  {
   "cell_type": "code",
   "execution_count": null,
   "metadata": {},
   "outputs": [],
   "source": [
    "# We dont export anything to output/ , we will export the best model with the production process."
   ]
  }
 ],
 "metadata": {
  "kernelspec": {
   "display_name": "Python 3 (ipykernel)",
   "language": "python",
   "name": "python3"
  },
  "language_info": {
   "codemirror_mode": {
    "name": "ipython",
    "version": 3
   },
   "file_extension": ".py",
   "mimetype": "text/x-python",
   "name": "python",
   "nbconvert_exporter": "python",
   "pygments_lexer": "ipython3",
   "version": "3.9.17"
  }
 },
 "nbformat": 4,
 "nbformat_minor": 2
}
