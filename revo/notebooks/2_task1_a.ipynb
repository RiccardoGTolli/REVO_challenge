{
 "cells": [
  {
   "cell_type": "code",
   "execution_count": 10,
   "metadata": {},
   "outputs": [],
   "source": [
    "import pandas as pd\n",
    "\n",
    "import statsmodels.api as sm\n",
    "import matplotlib.pyplot as plt\n",
    "import numpy as np"
   ]
  },
  {
   "cell_type": "code",
   "execution_count": 11,
   "metadata": {},
   "outputs": [],
   "source": [
    "# Import cleaned data\n",
    "df=pd.read_csv('output/0_clean_arff/df_task1.csv')"
   ]
  },
  {
   "cell_type": "code",
   "execution_count": 12,
   "metadata": {},
   "outputs": [],
   "source": [
    "def get_year_quarter_combos(start_year,start_quarter,\n",
    "                            end_year,end_quarter):\n",
    "    ''' Will return a dataframe that can be used to inner join df\n",
    "    so that you can filter the df based on year and quarter.\n",
    "    '''\n",
    "    all_combos=[]\n",
    "    for year in range(start_year,end_year+1):\n",
    "        if year==start_year:\n",
    "            for quarter in range(start_quarter,5):\n",
    "                combo=(year,quarter)\n",
    "                all_combos.append(combo)\n",
    "        elif year!=start_year and year<end_year:\n",
    "            for quarter in range(1,5):\n",
    "                combo=(year,quarter)\n",
    "                all_combos.append(combo)\n",
    "        elif year==end_year:\n",
    "            for quarter in range(1,end_quarter+1):\n",
    "                combo=(year,quarter)\n",
    "                all_combos.append(combo)\n",
    "                \n",
    "    # Convert the list of tuples to a DataFrame\n",
    "    filter_df = pd.DataFrame(all_combos, columns=['Year', 'Quarter'])\n",
    "    \n",
    "    return filter_df\n",
    "\n",
    "# Filter df based on the provided start and end year and quarter\n",
    "filter_df=get_year_quarter_combos(2019,4,2022,2)\n",
    "df=df.merge(filter_df,on=['Year','Quarter'])\n"
   ]
  },
  {
   "cell_type": "code",
   "execution_count": 13,
   "metadata": {},
   "outputs": [],
   "source": [
    "df.drop(['code_sector','description_sector','Country'],axis=1,inplace=True)"
   ]
  },
  {
   "cell_type": "code",
   "execution_count": 14,
   "metadata": {},
   "outputs": [],
   "source": [
    "X_cols=df[['Year','sin_quarter','cos_quarter']].columns\t\t\n",
    "Y_cols=df.drop(['Year','sin_quarter','cos_quarter','Quarter'],axis=1).columns"
   ]
  },
  {
   "cell_type": "code",
   "execution_count": 15,
   "metadata": {},
   "outputs": [],
   "source": [
    "def plot_lin_reg_scatter(df,col,coeff,pvalue,dir):\n",
    "    '''Plot for linear regression model for task1_a'''\n",
    "    \n",
    "    # Plot the points from y variables\n",
    "    plt.scatter(df['Year'] + (df['Quarter'] - 1) / 4 ,\n",
    "                df[col],\n",
    "                color='blue')\n",
    "\n",
    "    plt.xlabel('Year and Quarter')\n",
    "    plt.ylabel(col)\n",
    "    plt.title(col)\n",
    "    \n",
    "    # Plot the line of best fit on the fly (red)\n",
    "    x_values = (df['Year'] + (df['Quarter'] - 1) / 4).astype('float') \n",
    "    y_values = df[f'Predicted {col}'].astype('float')     \n",
    "    # Fit a polynomial of degree 1 (a straight line) to the data\n",
    "    coefficients = np.polyfit(x_values, y_values, 1)    \n",
    "    # Create a polynomial function based on the coefficients\n",
    "    poly_function = np.poly1d(coefficients)    \n",
    "    # Generate the x values for the line of best fit\n",
    "    x_fit = np.linspace(min(x_values), max(x_values), 100)    \n",
    "    # Calculate the corresponding y values using the polynomial function\n",
    "    y_fit = poly_function(x_fit)    \n",
    "    # Plot the line of best fit\n",
    "    plt.plot(x_fit, y_fit, color='red', linestyle='-', label='Predicted Line')\n",
    "\n",
    "    # Set formatter to suppress scientific notation on the x-axis\n",
    "    plt.ticklabel_format(useOffset=False, style='plain')\n",
    "    \n",
    "    # Add a text box with coefficient and p-value\n",
    "    text = f'Coeff: {coeff:.2f}\\nP-value: {pvalue:.2f}'\n",
    "    plt.text(0.05, 0.95, text, transform=plt.gca().transAxes, fontsize=10, verticalalignment='top')\n",
    "    \n",
    "    # Save the plot to a file\n",
    "    col_no_slashes=col.replace(\"/\", \"_\") # Remove the slashes\n",
    "    plt.savefig(f'output/{dir}/{col_no_slashes}.png')\n",
    "    # Reset the current figure\n",
    "    plt.clf()\n",
    "    "
   ]
  },
  {
   "cell_type": "code",
   "execution_count": 16,
   "metadata": {},
   "outputs": [
    {
     "data": {
      "text/plain": [
       "<Figure size 640x480 with 0 Axes>"
      ]
     },
     "metadata": {},
     "output_type": "display_data"
    }
   ],
   "source": [
    "\n",
    "# Store the statistically significant columns in a df\n",
    "cols_list=[]\n",
    "coefficients_list=[]\n",
    "pvalues_list=[]\n",
    "\n",
    "# Fit a multiple linear regression model to each financial col\n",
    "for financial_col in Y_cols: \n",
    "    if financial_col.startswith(\"MI_\"):\n",
    "        continue  # Skip to the next iteration if the col is a missing indicator\n",
    "    # Add a constant term and combine the 3 x variables into one array\n",
    "    X = sm.add_constant(list(zip(df['Year'], df['sin_quarter'], df['cos_quarter'])))  \n",
    "    model = sm.OLS(df[financial_col], X).fit()\n",
    "\n",
    "    # Get model characteristics\n",
    "    coefficients = model.params[1:] \n",
    "    p_values = model.pvalues[1:]\n",
    "    \n",
    "    # Save the column if the pvalue is significant\n",
    "    if p_values.mean()<=0.05:\n",
    "        # Predicted values from the model\n",
    "        predicted_values = model.predict(X)\n",
    "        # Add predictions to df\n",
    "        df[f'Predicted {financial_col}']=predicted_values\n",
    "        \n",
    "        cols_list.append(financial_col)\n",
    "        coefficients_list.append(coefficients.mean())\n",
    "        pvalues_list.append(p_values.mean())\n",
    "        \n",
    "        # Save all the plots of statistical significant cols in filesystem\n",
    "        plot_lin_reg_scatter(df,financial_col,coefficients.mean(),\n",
    "                             p_values.mean(),'2_task1_a')\n",
    "        "
   ]
  },
  {
   "cell_type": "code",
   "execution_count": 17,
   "metadata": {},
   "outputs": [],
   "source": [
    "task1_a_answer = pd.DataFrame({'Statistical Significant Financial Indicator':cols_list,\n",
    "                                'p-value':pvalues_list,\n",
    "                                'slope':coefficients_list}).sort_values(['slope'],ascending=False).reset_index(drop=True)"
   ]
  },
  {
   "cell_type": "code",
   "execution_count": 18,
   "metadata": {},
   "outputs": [],
   "source": [
    "# Save the task1_a_answer\n",
    "task1_a_answer.to_csv('output/2_task1_a/df_task1_a_result.csv',index=False)\n",
    "# The plots for each column are in revo/output/task1_a"
   ]
  }
 ],
 "metadata": {
  "kernelspec": {
   "display_name": "Python 3 (ipykernel)",
   "language": "python",
   "name": "python3"
  },
  "language_info": {
   "codemirror_mode": {
    "name": "ipython",
    "version": 3
   },
   "file_extension": ".py",
   "mimetype": "text/x-python",
   "name": "python",
   "nbconvert_exporter": "python",
   "pygments_lexer": "ipython3",
   "version": "3.9.17"
  }
 },
 "nbformat": 4,
 "nbformat_minor": 2
}
