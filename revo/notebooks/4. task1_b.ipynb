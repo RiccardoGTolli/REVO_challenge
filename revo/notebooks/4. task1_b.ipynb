{
 "cells": [
  {
   "cell_type": "code",
   "execution_count": null,
   "metadata": {},
   "outputs": [],
   "source": [
    "import pandas as pd\n",
    "\n",
    "import statsmodels.api as sm\n",
    "import matplotlib.pyplot as plt\n",
    "import numpy as np"
   ]
  },
  {
   "cell_type": "code",
   "execution_count": null,
   "metadata": {},
   "outputs": [],
   "source": [
    "# Import cleaned data\n",
    "df=pd.read_csv('output/df_task1.csv')"
   ]
  },
  {
   "cell_type": "code",
   "execution_count": null,
   "metadata": {},
   "outputs": [],
   "source": [
    "# Remove rows without sector\n",
    "df.dropna(subset='description_sector',inplace=True)"
   ]
  },
  {
   "cell_type": "code",
   "execution_count": null,
   "metadata": {},
   "outputs": [],
   "source": [
    "def get_year_quarter_combos(start_year,start_quarter,\n",
    "                            end_year,end_quarter):\n",
    "    ''' Will return a dataframe that can be used to inner join df\n",
    "    so that you can filter the df based on year and quarter.\n",
    "    '''\n",
    "    all_combos=[]\n",
    "    for year in range(start_year,end_year+1):\n",
    "        if year==start_year:\n",
    "            for quarter in range(start_quarter,5):\n",
    "                combo=(year,quarter)\n",
    "                all_combos.append(combo)\n",
    "        elif year!=start_year and year<end_year:\n",
    "            for quarter in range(1,5):\n",
    "                combo=(year,quarter)\n",
    "                all_combos.append(combo)\n",
    "        elif year==end_year:\n",
    "            for quarter in range(1,end_quarter+1):\n",
    "                combo=(year,quarter)\n",
    "                all_combos.append(combo)\n",
    "                \n",
    "    # Convert the list of tuples to a DataFrame\n",
    "    filter_df = pd.DataFrame(all_combos, columns=['Year', 'Quarter'])\n",
    "    \n",
    "    return filter_df\n",
    "\n",
    "filter_df=get_year_quarter_combos(2019,4,2022,2)\n",
    "\n",
    "# Filter df based on the provided start and end year and quarter\n",
    "df=df.merge(filter_df,on=['Year','Quarter'])\n"
   ]
  },
  {
   "cell_type": "code",
   "execution_count": null,
   "metadata": {},
   "outputs": [],
   "source": [
    "df.drop(['code_sector','Country'],axis=1,inplace=True)"
   ]
  },
  {
   "cell_type": "code",
   "execution_count": null,
   "metadata": {},
   "outputs": [],
   "source": [
    "X_cols=df[['Year','sin_quarter','cos_quarter']].columns\t\t\n",
    "Y_cols=df.drop(['description_sector','Year','sin_quarter','cos_quarter','Quarter'],axis=1).columns"
   ]
  },
  {
   "cell_type": "code",
   "execution_count": null,
   "metadata": {},
   "outputs": [],
   "source": [
    "def plot_lin_reg_scatter(df,col,coeff,pvalue):\n",
    "    '''Plot for linear regression model. The result is not a line\n",
    "    because we are using 3 x variables, so we are mapping a 4d space to\n",
    "    a 2d space.'''\n",
    "    \n",
    "    # Plot the points from y variables\n",
    "    plt.scatter(df['Year'] + (df['Quarter'] - 1) / 4 ,\n",
    "                df[col],\n",
    "                color='blue')\n",
    "\n",
    "    plt.xlabel('Year and Quarter')\n",
    "    plt.ylabel(col)\n",
    "    plt.title(col)\n",
    "\n",
    "    # Plot the line of best fit on the fly (red)\n",
    "    x_values = df['Year'] + (df['Quarter'] - 1) / 4\n",
    "    y_values = df[f'Predicted {col}']    \n",
    "    # Fit a polynomial of degree 1 (a straight line) to the data\n",
    "    coefficients = np.polyfit(x_values, y_values, 1)    \n",
    "    # Create a polynomial function based on the coefficients\n",
    "    poly_function = np.poly1d(coefficients)    \n",
    "    # Generate the x values for the line of best fit\n",
    "    x_fit = np.linspace(min(x_values), max(x_values), 100)    \n",
    "    # Calculate the corresponding y values using the polynomial function\n",
    "    y_fit = poly_function(x_fit)    \n",
    "    # Plot the line of best fit\n",
    "    plt.plot(x_fit, y_fit, color='red', linestyle='-', label='Predicted Line')\n",
    "\n",
    "    # Set formatter to suppress scientific notation on the x-axis\n",
    "    plt.ticklabel_format(useOffset=False, style='plain')\n",
    "    \n",
    "    # Add a text box with coefficient and p-value\n",
    "    text = f'Coeff: {coeff:.2f}\\nP-value: {pvalue:.2f}'\n",
    "    plt.text(0.05, 0.95, text, transform=plt.gca().transAxes, fontsize=10, verticalalignment='top')\n",
    "    \n",
    "    # Save the plot to a file\n",
    "    col_no_slashes=col.replace(\"/\", \"_\") # Remove the slashes\n",
    "    plt.savefig(f'output/plots/task1_a/{col_no_slashes}.png')\n",
    "    # Reset the current figure\n",
    "    plt.clf()\n",
    "    "
   ]
  },
  {
   "cell_type": "code",
   "execution_count": null,
   "metadata": {},
   "outputs": [],
   "source": [
    "# Get a df for each sector, same analysis as task1_a\n",
    "all_dfs_list=[]\n",
    "\n",
    "for sector in df['description_sector'].unique():\n",
    "    sector_df=df[df['description_sector']==sector].copy()\n",
    "    \n",
    "    # Store the statistically significant columns in a df\n",
    "    cols_list=[]\n",
    "    coefficients_list=[]\n",
    "    pvalues_list=[]\n",
    "\n",
    "    # Fit a multiple linear regression model to each financial col\n",
    "    for financial_col in Y_cols: \n",
    "        # Add a constant term and combine the 3 x variables into one array\n",
    "        X = sm.add_constant(list(zip(sector_df['Year'], sector_df['sin_quarter'], sector_df['cos_quarter'])))  \n",
    "        model = sm.OLS(sector_df[financial_col], X).fit()\n",
    "\n",
    "        # Get model characteristics\n",
    "        coefficients = model.params[1:] \n",
    "        p_values = model.pvalues[1:]\n",
    "        \n",
    "        # Save the column if the pvalue is significant\n",
    "        if p_values.mean()<=0.05:\n",
    "            # Predicted values from the model\n",
    "            predicted_values = model.predict(X)\n",
    "            # Add predictions to df\n",
    "            sector_df[f'Predicted {financial_col}']=predicted_values\n",
    "            \n",
    "            cols_list.append(financial_col)\n",
    "            coefficients_list.append(coefficients.mean())\n",
    "            pvalues_list.append(p_values.mean())\n",
    "    \n",
    "    sector_df_results = pd.DataFrame({'Statistical Significant Financial Indicator':cols_list,\n",
    "                                'p-value':pvalues_list,\n",
    "                                'slope':coefficients_list,\n",
    "                                'description_sector':sector}).sort_values(['slope'],\n",
    "                                                                          ascending=False).reset_index(drop=True)\n",
    "    all_dfs_list.append(sector_df_results)\n",
    "    \n",
    "all_sectors_df=pd.concat(all_dfs_list).reset_index(drop=True)"
   ]
  },
  {
   "cell_type": "code",
   "execution_count": null,
   "metadata": {},
   "outputs": [],
   "source": [
    "task1_b_answer=all_sectors_df['Statistical Significant Financial Indicator'].value_counts()"
   ]
  },
  {
   "cell_type": "code",
   "execution_count": null,
   "metadata": {},
   "outputs": [],
   "source": [
    "task1_b_answer=pd.DataFrame({task1_b_answer.index.name:task1_b_answer.index.values,\n",
    "                             'Rank':task1_b_answer}).reset_index(drop=True)"
   ]
  },
  {
   "cell_type": "code",
   "execution_count": null,
   "metadata": {},
   "outputs": [],
   "source": [
    "# Produce plots\n",
    "for financial_col,sector in zip(all_sectors_df['Statistical Significant Financial Indicator'],\n",
    "                                all_sectors_df['description_sector']):\n",
    "    \n",
    "    filtered_df=df[df['description_sector']==sector].copy()\n",
    "    plot_lin_reg_scatter(filtered_df,financial_col,coeff,pvalue)"
   ]
  },
  {
   "cell_type": "code",
   "execution_count": 232,
   "metadata": {},
   "outputs": [
    {
     "data": {
      "text/html": [
       "<div>\n",
       "<style scoped>\n",
       "    .dataframe tbody tr th:only-of-type {\n",
       "        vertical-align: middle;\n",
       "    }\n",
       "\n",
       "    .dataframe tbody tr th {\n",
       "        vertical-align: top;\n",
       "    }\n",
       "\n",
       "    .dataframe thead th {\n",
       "        text-align: right;\n",
       "    }\n",
       "</style>\n",
       "<table border=\"1\" class=\"dataframe\">\n",
       "  <thead>\n",
       "    <tr style=\"text-align: right;\">\n",
       "      <th></th>\n",
       "      <th>Statistical Significant Financial Indicator</th>\n",
       "      <th>p-value</th>\n",
       "      <th>slope</th>\n",
       "      <th>description_sector</th>\n",
       "    </tr>\n",
       "  </thead>\n",
       "  <tbody>\n",
       "    <tr>\n",
       "      <th>0</th>\n",
       "      <td>Sales revenues/inventory</td>\n",
       "      <td>0.032938</td>\n",
       "      <td>0.564185</td>\n",
       "      <td>Transportation and warehousing</td>\n",
       "    </tr>\n",
       "    <tr>\n",
       "      <th>1</th>\n",
       "      <td>Receivables (n)/receivables (n−1)</td>\n",
       "      <td>0.021098</td>\n",
       "      <td>0.099786</td>\n",
       "      <td>Manufacturing</td>\n",
       "    </tr>\n",
       "    <tr>\n",
       "      <th>2</th>\n",
       "      <td>Net profit (n)/net profit (n−1)</td>\n",
       "      <td>0.006057</td>\n",
       "      <td>0.069984</td>\n",
       "      <td>Manufacturing</td>\n",
       "    </tr>\n",
       "    <tr>\n",
       "      <th>3</th>\n",
       "      <td>Market capitalization/EBITDA</td>\n",
       "      <td>0.012595</td>\n",
       "      <td>-0.010972</td>\n",
       "      <td>Manufacturing</td>\n",
       "    </tr>\n",
       "    <tr>\n",
       "      <th>4</th>\n",
       "      <td>Total assets (n)/total assets (n−1)</td>\n",
       "      <td>0.031433</td>\n",
       "      <td>-0.216426</td>\n",
       "      <td>Manufacturing</td>\n",
       "    </tr>\n",
       "    <tr>\n",
       "      <th>5</th>\n",
       "      <td>Depreciation/net cash flow from (used in) oper...</td>\n",
       "      <td>0.021679</td>\n",
       "      <td>0.170428</td>\n",
       "      <td>Energy</td>\n",
       "    </tr>\n",
       "    <tr>\n",
       "      <th>6</th>\n",
       "      <td>Total assets (n)/total assets (n−1)</td>\n",
       "      <td>0.043029</td>\n",
       "      <td>0.037069</td>\n",
       "      <td>Energy</td>\n",
       "    </tr>\n",
       "  </tbody>\n",
       "</table>\n",
       "</div>"
      ],
      "text/plain": [
       "         Statistical Significant Financial Indicator   p-value     slope  \\\n",
       "0                           Sales revenues/inventory  0.032938  0.564185   \n",
       "1                  Receivables (n)/receivables (n−1)  0.021098  0.099786   \n",
       "2                    Net profit (n)/net profit (n−1)  0.006057  0.069984   \n",
       "3                       Market capitalization/EBITDA  0.012595 -0.010972   \n",
       "4                Total assets (n)/total assets (n−1)  0.031433 -0.216426   \n",
       "5  Depreciation/net cash flow from (used in) oper...  0.021679  0.170428   \n",
       "6                Total assets (n)/total assets (n−1)  0.043029  0.037069   \n",
       "\n",
       "               description_sector  \n",
       "0  Transportation and warehousing  \n",
       "1                   Manufacturing  \n",
       "2                   Manufacturing  \n",
       "3                   Manufacturing  \n",
       "4                   Manufacturing  \n",
       "5                          Energy  \n",
       "6                          Energy  "
      ]
     },
     "execution_count": 232,
     "metadata": {},
     "output_type": "execute_result"
    }
   ],
   "source": [
    "all_sectors_df"
   ]
  }
 ],
 "metadata": {
  "kernelspec": {
   "display_name": "Python 3 (ipykernel)",
   "language": "python",
   "name": "python3"
  },
  "language_info": {
   "codemirror_mode": {
    "name": "ipython",
    "version": 3
   },
   "file_extension": ".py",
   "mimetype": "text/x-python",
   "name": "python",
   "nbconvert_exporter": "python",
   "pygments_lexer": "ipython3",
   "version": "3.9.17"
  }
 },
 "nbformat": 4,
 "nbformat_minor": 2
}
