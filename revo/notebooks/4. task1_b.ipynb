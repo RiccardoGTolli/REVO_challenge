{
 "cells": [
  {
   "cell_type": "code",
   "execution_count": 79,
   "metadata": {},
   "outputs": [],
   "source": [
    "import pandas as pd\n",
    "\n",
    "import statsmodels.api as sm\n",
    "import matplotlib.pyplot as plt\n",
    "from sklearn.preprocessing import StandardScaler\n",
    "import numpy as np"
   ]
  },
  {
   "cell_type": "code",
   "execution_count": 80,
   "metadata": {},
   "outputs": [],
   "source": [
    "# Import cleaned data\n",
    "df=pd.read_csv('output/df_task1.csv')"
   ]
  },
  {
   "cell_type": "code",
   "execution_count": 81,
   "metadata": {},
   "outputs": [],
   "source": [
    "def get_year_quarter_combos(start_year,start_quarter,\n",
    "                            end_year,end_quarter):\n",
    "    ''' Will return a dataframe that can be used to inner join df\n",
    "    so that you can filter the df based on year and quarter.\n",
    "    '''\n",
    "    all_combos=[]\n",
    "    for year in range(start_year,end_year+1):\n",
    "        if year==start_year:\n",
    "            for quarter in range(start_quarter,5):\n",
    "                combo=(year,quarter)\n",
    "                all_combos.append(combo)\n",
    "        elif year!=start_year and year<end_year:\n",
    "            for quarter in range(1,5):\n",
    "                combo=(year,quarter)\n",
    "                all_combos.append(combo)\n",
    "        elif year==end_year:\n",
    "            for quarter in range(1,end_quarter+1):\n",
    "                combo=(year,quarter)\n",
    "                all_combos.append(combo)\n",
    "                \n",
    "    # Convert the list of tuples to a DataFrame\n",
    "    filter_df = pd.DataFrame(all_combos, columns=['Year', 'Quarter'])\n",
    "    \n",
    "    return filter_df\n",
    "\n",
    "filter_df=get_year_quarter_combos(2019,4,2022,2)\n"
   ]
  },
  {
   "cell_type": "code",
   "execution_count": 82,
   "metadata": {},
   "outputs": [],
   "source": [
    "# Filter df based on the provided start and end year and quarter\n",
    "df=df.merge(filter_df,on=['Year','Quarter'])"
   ]
  },
  {
   "cell_type": "code",
   "execution_count": 83,
   "metadata": {},
   "outputs": [],
   "source": [
    "df.drop(['code_sector','description_sector','Country'],axis=1,inplace=True)"
   ]
  },
  {
   "cell_type": "code",
   "execution_count": 84,
   "metadata": {},
   "outputs": [],
   "source": [
    "X_cols=df[['Year','sin_quarter','cos_quarter']].columns\t\t\n",
    "Y_cols=df.drop(['Year','sin_quarter','cos_quarter','Quarter'],axis=1).columns"
   ]
  },
  {
   "cell_type": "code",
   "execution_count": 85,
   "metadata": {},
   "outputs": [],
   "source": [
    "# As we are going to use linear regression, let s normalize the data\n",
    "scaler = StandardScaler()\n",
    "# Normalize\n",
    "df[Y_cols] = scaler.fit_transform(df[Y_cols])"
   ]
  },
  {
   "cell_type": "code",
   "execution_count": 86,
   "metadata": {},
   "outputs": [],
   "source": [
    "def plot_lin_reg_scatter(df,col,coeff,pvalue):\n",
    "    '''Plot for linear regression model. The result is not a line\n",
    "    because we are using 3 x variables, so we are mapping a 4d space to\n",
    "    a 2d space.'''\n",
    "    \n",
    "    # Plot the points from y variables\n",
    "    plt.scatter(df['Year'] + (df['Quarter'] - 1) / 4 ,\n",
    "                df[col],\n",
    "                color='blue')\n",
    "\n",
    "    plt.xlabel('Year and Quarter')\n",
    "    plt.ylabel(col)\n",
    "    plt.title(col)\n",
    "\n",
    "    # Plot the line of best fit on the fly (red)\n",
    "    x_values = df['Year'] + (df['Quarter'] - 1) / 4\n",
    "    y_values = df[f'Predicted {col}']    \n",
    "    # Fit a polynomial of degree 1 (a straight line) to the data\n",
    "    coefficients = np.polyfit(x_values, y_values, 1)    \n",
    "    # Create a polynomial function based on the coefficients\n",
    "    poly_function = np.poly1d(coefficients)    \n",
    "    # Generate the x values for the line of best fit\n",
    "    x_fit = np.linspace(min(x_values), max(x_values), 100)    \n",
    "    # Calculate the corresponding y values using the polynomial function\n",
    "    y_fit = poly_function(x_fit)    \n",
    "    # Plot the line of best fit\n",
    "    plt.plot(x_fit, y_fit, color='red', linestyle='-', label='Predicted Line')\n",
    "\n",
    "    # Set formatter to suppress scientific notation on the x-axis\n",
    "    plt.ticklabel_format(useOffset=False, style='plain')\n",
    "    \n",
    "    # Add a text box with coefficient and p-value\n",
    "    text = f'Coeff: {coeff:.2f}\\nP-value: {pvalue:.2f}'\n",
    "    plt.text(0.05, 0.95, text, transform=plt.gca().transAxes, fontsize=10, verticalalignment='top')\n",
    "    \n",
    "    # Save the plot to a file\n",
    "    col_no_slashes=col.replace(\"/\", \"_\") # Remove the slashes\n",
    "    plt.savefig(f'output/plots/task1_a/{col_no_slashes}.png')\n",
    "    # Reset the current figure\n",
    "    plt.clf()\n",
    "    "
   ]
  },
  {
   "cell_type": "code",
   "execution_count": 87,
   "metadata": {},
   "outputs": [
    {
     "data": {
      "text/plain": [
       "<Figure size 640x480 with 0 Axes>"
      ]
     },
     "metadata": {},
     "output_type": "display_data"
    }
   ],
   "source": [
    "\n",
    "# Store the statistically significant columns in a df\n",
    "cols_list=[]\n",
    "coefficients_list=[]\n",
    "pvalues_list=[]\n",
    "\n",
    "# Fit a multiple linear regression model to each financial col\n",
    "for financial_col in Y_cols: \n",
    "    # Add a constant term and combine the 3 x variables into one array\n",
    "    X = sm.add_constant(list(zip(df['Year'], df['sin_quarter'], df['cos_quarter'])))  \n",
    "    model = sm.OLS(df[financial_col], X).fit()\n",
    "\n",
    "    # Get model characteristics\n",
    "    coefficients = model.params[1:] \n",
    "    p_values = model.pvalues[1:]\n",
    "    \n",
    "    # Save the column if the pvalue is significant\n",
    "    if p_values.mean()<=0.05:\n",
    "        # Predicted values from the model\n",
    "        predicted_values = model.predict(X)\n",
    "        # Add predictions to df\n",
    "        df[f'Predicted {financial_col}']=predicted_values\n",
    "        \n",
    "        cols_list.append(financial_col)\n",
    "        coefficients_list.append(coefficients.mean())\n",
    "        pvalues_list.append(p_values.mean())\n",
    "        \n",
    "        # Save all the plots of statistical significant cols in filesystem\n",
    "        plot_lin_reg_scatter(df,financial_col,coefficients.mean(),\n",
    "                             p_values.mean())\n",
    "        "
   ]
  },
  {
   "cell_type": "code",
   "execution_count": 88,
   "metadata": {},
   "outputs": [],
   "source": [
    "task1_a_answer = pd.DataFrame({'Statistical Significant Financial Indicator':cols_list,\n",
    "                                'p-value':pvalues_list,\n",
    "                                'slope':coefficients_list}).sort_values(['slope'],ascending=False).reset_index(drop=True)"
   ]
  },
  {
   "cell_type": "code",
   "execution_count": 89,
   "metadata": {},
   "outputs": [
    {
     "data": {
      "text/html": [
       "<div>\n",
       "<style scoped>\n",
       "    .dataframe tbody tr th:only-of-type {\n",
       "        vertical-align: middle;\n",
       "    }\n",
       "\n",
       "    .dataframe tbody tr th {\n",
       "        vertical-align: top;\n",
       "    }\n",
       "\n",
       "    .dataframe thead th {\n",
       "        text-align: right;\n",
       "    }\n",
       "</style>\n",
       "<table border=\"1\" class=\"dataframe\">\n",
       "  <thead>\n",
       "    <tr style=\"text-align: right;\">\n",
       "      <th></th>\n",
       "      <th>Statistical Significant Financial Indicator</th>\n",
       "      <th>p-value</th>\n",
       "      <th>slope</th>\n",
       "    </tr>\n",
       "  </thead>\n",
       "  <tbody>\n",
       "    <tr>\n",
       "      <th>0</th>\n",
       "      <td>Net profit (n)/net profit (n−1)</td>\n",
       "      <td>0.042271</td>\n",
       "      <td>0.048739</td>\n",
       "    </tr>\n",
       "    <tr>\n",
       "      <th>1</th>\n",
       "      <td>Market capitalization/EBITDA</td>\n",
       "      <td>0.002783</td>\n",
       "      <td>0.031731</td>\n",
       "    </tr>\n",
       "    <tr>\n",
       "      <th>2</th>\n",
       "      <td>Net cash flow from (used in) operating activit...</td>\n",
       "      <td>0.046557</td>\n",
       "      <td>0.031360</td>\n",
       "    </tr>\n",
       "    <tr>\n",
       "      <th>3</th>\n",
       "      <td>Market capitalization to EBIT</td>\n",
       "      <td>0.015089</td>\n",
       "      <td>0.014052</td>\n",
       "    </tr>\n",
       "    <tr>\n",
       "      <th>4</th>\n",
       "      <td>EBIT/total operating costs</td>\n",
       "      <td>0.042104</td>\n",
       "      <td>-0.023117</td>\n",
       "    </tr>\n",
       "  </tbody>\n",
       "</table>\n",
       "</div>"
      ],
      "text/plain": [
       "         Statistical Significant Financial Indicator   p-value     slope\n",
       "0                    Net profit (n)/net profit (n−1)  0.042271  0.048739\n",
       "1                       Market capitalization/EBITDA  0.002783  0.031731\n",
       "2  Net cash flow from (used in) operating activit...  0.046557  0.031360\n",
       "3                      Market capitalization to EBIT  0.015089  0.014052\n",
       "4                         EBIT/total operating costs  0.042104 -0.023117"
      ]
     },
     "execution_count": 89,
     "metadata": {},
     "output_type": "execute_result"
    }
   ],
   "source": [
    "task1_a_answer\n",
    "# The plots for each column are in revo/output/plots/task1_a"
   ]
  }
 ],
 "metadata": {
  "kernelspec": {
   "display_name": "Python 3 (ipykernel)",
   "language": "python",
   "name": "python3"
  },
  "language_info": {
   "codemirror_mode": {
    "name": "ipython",
    "version": 3
   },
   "file_extension": ".py",
   "mimetype": "text/x-python",
   "name": "python",
   "nbconvert_exporter": "python",
   "pygments_lexer": "ipython3",
   "version": "3.9.17"
  }
 },
 "nbformat": 4,
 "nbformat_minor": 2
}
